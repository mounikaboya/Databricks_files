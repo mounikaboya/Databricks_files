{
 "cells": [
  {
   "cell_type": "code",
   "execution_count": 4,
   "id": "3899d69f-cdca-4f16-88a2-9702ab564c98",
   "metadata": {},
   "outputs": [
    {
     "name": "stdout",
     "output_type": "stream",
     "text": [
      "(4, 5, 6, 7, 8, 9)\n"
     ]
    }
   ],
   "source": [
    "# 1.Print Tup. Is that a tuple you just created?\n",
    "\n",
    "#(i) Tup = 4,5,6,7,8,9\n",
    "  \n",
    "Tup=(4,5,6,7,8,9)\n",
    "print(Tup)\n"
   ]
  },
  {
   "cell_type": "code",
   "execution_count": 7,
   "id": "9882b908-8bfb-4e0d-9f21-ca5bda06ad92",
   "metadata": {},
   "outputs": [
    {
     "name": "stdout",
     "output_type": "stream",
     "text": [
      "((4, 5, 6, 7), (7, 6, 8, 9))\n"
     ]
    }
   ],
   "source": [
    "# (ii).Tup = (4,5,6,7),(7,6,8,9)\n",
    "Tup= (4,5,6,7),(7,6,8,9)\n",
    "print(Tup[0:4])"
   ]
  },
  {
   "cell_type": "code",
   "execution_count": 8,
   "id": "7f5e7a86-f3e6-449a-ba48-519572daf937",
   "metadata": {},
   "outputs": [
    {
     "name": "stdout",
     "output_type": "stream",
     "text": [
      "(4, 5, 6, 79)\n"
     ]
    }
   ],
   "source": [
    "#Change this above List_1 into a tuple.\n",
    "# (iii) List_1 = [4,5,6,79] \n",
    "List_1 = [4,5,6,79]\n",
    "A= tuple(List_1)\n",
    "print(A)"
   ]
  },
  {
   "cell_type": "code",
   "execution_count": 10,
   "id": "7895ec29-14e8-4b85-adc8-77c98251c4ee",
   "metadata": {},
   "outputs": [
    {
     "data": {
      "text/plain": [
       "str"
      ]
     },
     "execution_count": 10,
     "metadata": {},
     "output_type": "execute_result"
    }
   ],
   "source": [
    "\n",
    "#Convert above string into an iterative tuple. (Use either if-else statement or split function)\n",
    "#(iv) ‘String’\n",
    "type(\"A\")"
   ]
  },
  {
   "cell_type": "code",
   "execution_count": 1,
   "id": "2d94da48-79e2-42cf-a0d2-41a0a843270e",
   "metadata": {},
   "outputs": [
    {
     "data": {
      "text/plain": [
       "('foo', [1, 3], True)"
      ]
     },
     "execution_count": 1,
     "metadata": {},
     "output_type": "execute_result"
    }
   ],
   "source": [
    "#Convert above string into an iterative tuple. (Use either if-else statement or split function)\n",
    "#(v) tup_1 = ('foo', [1, 2], True)\n",
    "\n",
    "tup_1=('foo',[1,2],True)\n",
    "tup_1[-2][1]=3\n",
    "tup_1"
   ]
  },
  {
   "cell_type": "code",
   "execution_count": null,
   "id": "2fd4bcc5-acc0-4327-b346-62cb2e27749f",
   "metadata": {},
   "outputs": [],
   "source": []
  },
  {
   "cell_type": "code",
   "execution_count": null,
   "id": "b3ab3030-f764-40ec-a5e3-443ded6fa6f1",
   "metadata": {},
   "outputs": [],
   "source": []
  },
  {
   "cell_type": "code",
   "execution_count": null,
   "id": "85fba271-7fcc-48b3-bdec-1dc839ed900c",
   "metadata": {},
   "outputs": [],
   "source": []
  },
  {
   "cell_type": "code",
   "execution_count": 3,
   "id": "e125aaa6-6cdf-4b57-937f-4f6f72acf4f4",
   "metadata": {},
   "outputs": [
    {
     "ename": "SyntaxError",
     "evalue": "invalid syntax (<ipython-input-3-e8d1702235f9>, line 5)",
     "output_type": "error",
     "traceback": [
      "\u001b[1;36m  File \u001b[1;32m\"<ipython-input-3-e8d1702235f9>\"\u001b[1;36m, line \u001b[1;32m5\u001b[0m\n\u001b[1;33m    for i in A[]\u001b[0m\n\u001b[1;37m               ^\u001b[0m\n\u001b[1;31mSyntaxError\u001b[0m\u001b[1;31m:\u001b[0m invalid syntax\n"
     ]
    }
   ],
   "source": [
    "#2. Use the list below and make a new list B that has only odd elements of this list in it.\n",
    "\n",
    "A = [1,4,9,16,25,36,49,64,81,100]\n",
    "list=[]\n",
    "for i in A[]\n",
    "  if i%2 != 0\n",
    "    list.append(i)\n",
    "print(list)\n",
    "\n"
   ]
  },
  {
   "cell_type": "code",
   "execution_count": 2,
   "id": "8cde14f8-533a-41ba-a978-2074dc06c40b",
   "metadata": {},
   "outputs": [],
   "source": [
    "# that returns the lesser/min of the two num if both of them are even and \n",
    "#bigger /max of the two num if one or both of them are odd\n",
    "\n",
    "#if statement\n",
    "def lesser_of_two(a,b):\n",
    "    if a%2==0 and b%2==0:\n",
    "        return min(a,b)\n",
    "    else:\n",
    "        return max(a,b)"
   ]
  },
  {
   "cell_type": "code",
   "execution_count": 3,
   "id": "fc9ac00e-22a8-4a0e-a8b0-19d0ad6d9510",
   "metadata": {},
   "outputs": [
    {
     "data": {
      "text/plain": [
       "10"
      ]
     },
     "execution_count": 3,
     "metadata": {},
     "output_type": "execute_result"
    }
   ],
   "source": [
    "lesser_of_two(10,12)"
   ]
  },
  {
   "cell_type": "code",
   "execution_count": 7,
   "id": "679509bf-ae6a-470d-bd6d-abc4b530087b",
   "metadata": {},
   "outputs": [
    {
     "ename": "SyntaxError",
     "evalue": "invalid syntax (<ipython-input-7-da8b8e8b5936>, line 6)",
     "output_type": "error",
     "traceback": [
      "\u001b[1;36m  File \u001b[1;32m\"<ipython-input-7-da8b8e8b5936>\"\u001b[1;36m, line \u001b[1;32m6\u001b[0m\n\u001b[1;33m    if c<=50\u001b[0m\n\u001b[1;37m            ^\u001b[0m\n\u001b[1;31mSyntaxError\u001b[0m\u001b[1;31m:\u001b[0m invalid syntax\n"
     ]
    }
   ],
   "source": [
    "# create a function by name make_50\n",
    "#use two integers,return true if sum of the integer is 50,if not then return false\n",
    "\n",
    "def mark_50(a,d):\n",
    "    c=a+b\n",
    "    if c<=50\n",
    "       return True\n",
    "    else:\n",
    "        return False\n",
    "    \n",
    "    "
   ]
  },
  {
   "cell_type": "code",
   "execution_count": 6,
   "id": "7839c743-1c06-4384-bc7c-286750f4fd98",
   "metadata": {},
   "outputs": [],
   "source": [
    "# reverse the sentence using a func\n",
    "#\"THE QUICK BROWN FROG JUMP OVER THE LAZY DOG\" AS\n",
    "#\"DOG LAZY THE OVER JUMP FROG BROWN QUICK THE\"\n",
    "#create a fun as reversed_order....."
   ]
  },
  {
   "cell_type": "code",
   "execution_count": null,
   "id": "98a5c0ae-dedd-4eec-a519-a58c784cfb3d",
   "metadata": {},
   "outputs": [],
   "source": [
    "# fun...string....arg...reverse..\n",
    "#reversed_order....\n",
    "def reversed_order(text)"
   ]
  },
  {
   "cell_type": "code",
   "execution_count": 15,
   "id": "06173a1d-ac98-453d-8684-f76470eea43a",
   "metadata": {},
   "outputs": [],
   "source": [
    "# kwargs\n",
    "def myself(**kwargs):\n",
    "    for key,value in kwargs.items():\n",
    "         print(\"His {} is {}.\".format(key,value))"
   ]
  },
  {
   "cell_type": "code",
   "execution_count": 16,
   "id": "1e5b90fe-21b5-4fd6-ae1b-885047a49d35",
   "metadata": {},
   "outputs": [
    {
     "name": "stdout",
     "output_type": "stream",
     "text": [
      "His Firstname is Mounika.\n",
      "His Lastname is Boya.\n"
     ]
    }
   ],
   "source": [
    "myself(Firstname = \"Mounika\",Lastname= \"Boya\")"
   ]
  },
  {
   "cell_type": "code",
   "execution_count": 21,
   "id": "78220b26-b51c-4671-80cd-ee89a31bf941",
   "metadata": {},
   "outputs": [],
   "source": [
    "# def args and kwargs...\n",
    "def myself1(*args,**kwargs):\n",
    "    if 'fruit' and 'juice' in kwargs:\n",
    "        print(f\"I like {' '.join(args)} and my favorite fruit is {kwargs['fruit']} and {kwargs['juice']}.\")\n",
    "        "
   ]
  },
  {
   "cell_type": "code",
   "execution_count": 22,
   "id": "231144fb-25c5-42a9-b2f7-9d566466c56e",
   "metadata": {},
   "outputs": [
    {
     "name": "stdout",
     "output_type": "stream",
     "text": [
      "I like eggs banana and my favorite fruit is pineapple and apple.\n"
     ]
    }
   ],
   "source": [
    "myself1('eggs','banana',fruit = 'pineapple',juice='apple')"
   ]
  },
  {
   "cell_type": "code",
   "execution_count": 25,
   "id": "8e5a3e49-932a-4b7e-9eba-fcbe4e658199",
   "metadata": {},
   "outputs": [
    {
     "name": "stdout",
     "output_type": "stream",
     "text": [
      "[32.0, 51.8, 69.80000000000001, 73.75999999999999, 113.0, 39.2]\n"
     ]
    }
   ],
   "source": [
    "celcius = [0,11,21,23.2,45,4]\n",
    "# convert this celsius list into fahrenheit\n",
    "list=[(9/5)*i + 32 for i in celcius]\n",
    "print(list)"
   ]
  },
  {
   "cell_type": "code",
   "execution_count": 29,
   "id": "03c2564e-1085-4f35-8b50-4661af0e44f4",
   "metadata": {},
   "outputs": [
    {
     "name": "stdout",
     "output_type": "stream",
     "text": [
      "[1, 4, 9, 16, 25, 36, 49, 64, 81]\n"
     ]
    }
   ],
   "source": [
    "# by using list comprehension find square of numbers from 1 to 9\n",
    "# and again use the nested list comprehesive for the\n",
    "# double square....\n",
    "\n",
    "B=[i*i for i in range(1,10)]\n",
    "print(B)"
   ]
  },
  {
   "cell_type": "code",
   "execution_count": null,
   "id": "b8dadf7d-3daf-4992-8861-ca9d3ceb75fd",
   "metadata": {},
   "outputs": [],
   "source": [
    "# dictionary comprehension...(key:value)\n",
    "\n",
    "list1 = [23,45,3,45,7]\n",
    "list2 = ['Akash','Ramesh','Ravi','Akbar','Sukhbir']\n",
    "\n",
    "desc = {list2:list1 for i }"
   ]
  },
  {
   "cell_type": "code",
   "execution_count": 30,
   "id": "1385394b-72f1-4ba5-b2fb-a5ef81f2133c",
   "metadata": {},
   "outputs": [],
   "source": [
    "# map and filter.....Lambda expression.....\n",
    "# map mapping ...one to one mapping ,,, one to many,,many to many....\n",
    "def cube(num):\n",
    "    return num**3\n"
   ]
  },
  {
   "cell_type": "code",
   "execution_count": null,
   "id": "83385f5d-dc92-4b5f-8c61-83cc58a76e88",
   "metadata": {},
   "outputs": [],
   "source": [
    "#if Len is even then print even and if length is odd then print.. first letter of the string \n",
    "def splicer(mystring):\n",
    "    if len(mystring)%2==0:\n",
    "        return 'even'\n",
    "    else:\n",
    "        return mystring[0:6]"
   ]
  },
  {
   "cell_type": "code",
   "execution_count": 31,
   "id": "4608f69e-6a73-435d-92a7-da50e5fa910c",
   "metadata": {},
   "outputs": [],
   "source": [
    "# lambda expression...\n",
    "\n",
    "def square(num):\n",
    "    return num**2"
   ]
  },
  {
   "cell_type": "code",
   "execution_count": 32,
   "id": "40b99406-0e4b-4b87-a08e-20daeccaf929",
   "metadata": {},
   "outputs": [],
   "source": [
    "square = lambda num:num**3"
   ]
  },
  {
   "cell_type": "code",
   "execution_count": 33,
   "id": "6c4f5357-41aa-41ee-883e-94a965df21bd",
   "metadata": {},
   "outputs": [
    {
     "data": {
      "text/plain": [
       "12812904"
      ]
     },
     "execution_count": 33,
     "metadata": {},
     "output_type": "execute_result"
    }
   ],
   "source": [
    "square(234)"
   ]
  },
  {
   "cell_type": "code",
   "execution_count": 6,
   "id": "1e521323-3aca-47bf-b92f-c7308b11ee96",
   "metadata": {},
   "outputs": [],
   "source": [
    "# dog\n",
    "class Dog:\n",
    "# attributes...\n",
    "     species = 'mammal'\n",
    "     def _init_(self,breed,name):\n",
    "            self.breed = breed\n",
    "            self.name = name"
   ]
  },
  {
   "cell_type": "code",
   "execution_count": null,
   "id": "e84f4b6c-2fa6-4f24-935f-e31744379b6a",
   "metadata": {},
   "outputs": [],
   "source": []
  },
  {
   "cell_type": "code",
   "execution_count": 8,
   "id": "2de3ab84-0b9c-4f38-b343-bf0baa2e3090",
   "metadata": {},
   "outputs": [
    {
     "ename": "TypeError",
     "evalue": "Dog() takes no arguments",
     "output_type": "error",
     "traceback": [
      "\u001b[1;31m---------------------------------------------------------------------------\u001b[0m",
      "\u001b[1;31mTypeError\u001b[0m                                 Traceback (most recent call last)",
      "\u001b[1;32m<ipython-input-8-8a51112c5a9a>\u001b[0m in \u001b[0;36m<module>\u001b[1;34m\u001b[0m\n\u001b[1;32m----> 1\u001b[1;33m \u001b[0msam\u001b[0m \u001b[1;33m=\u001b[0m \u001b[0mDog\u001b[0m\u001b[1;33m(\u001b[0m\u001b[1;34m'Lab'\u001b[0m\u001b[1;33m,\u001b[0m\u001b[1;34m'Sam'\u001b[0m\u001b[1;33m)\u001b[0m\u001b[1;33m\u001b[0m\u001b[1;33m\u001b[0m\u001b[0m\n\u001b[0m",
      "\u001b[1;31mTypeError\u001b[0m: Dog() takes no arguments"
     ]
    }
   ],
   "source": [
    "sam = Dog('Lab','Sam')"
   ]
  },
  {
   "cell_type": "code",
   "execution_count": null,
   "id": "6f2567f8-8211-4c08-a294-4a15f8862e53",
   "metadata": {},
   "outputs": [],
   "source": [
    "rectangle...object...\n",
    "\n"
   ]
  },
  {
   "cell_type": "code",
   "execution_count": null,
   "id": "953abc43-4c99-43fa-91b1-4bd2cc984cc4",
   "metadata": {},
   "outputs": [],
   "source": []
  },
  {
   "cell_type": "code",
   "execution_count": null,
   "id": "7c0d989e-faf3-46ab-91e3-c11b35a47c3a",
   "metadata": {},
   "outputs": [],
   "source": []
  }
 ],
 "metadata": {
  "kernelspec": {
   "display_name": "Python 3",
   "language": "python",
   "name": "python3"
  },
  "language_info": {
   "codemirror_mode": {
    "name": "ipython",
    "version": 3
   },
   "file_extension": ".py",
   "mimetype": "text/x-python",
   "name": "python",
   "nbconvert_exporter": "python",
   "pygments_lexer": "ipython3",
   "version": "3.8.8"
  }
 },
 "nbformat": 4,
 "nbformat_minor": 5
}
